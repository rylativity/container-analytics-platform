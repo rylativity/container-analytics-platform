{
 "cells": [
  {
   "cell_type": "code",
   "execution_count": 1,
   "id": "55607133-59b7-4f19-b333-ced8706806b4",
   "metadata": {},
   "outputs": [
    {
     "name": "stdout",
     "output_type": "stream",
     "text": [
      "\u001b[0m21:02:04  Running with dbt=1.8.4\n",
      "\u001b[0m21:02:04  [ConfigFolderDirectory]: Unable to parse dict {'dir': PosixPath('/root/.dbt')}\n",
      "\u001b[0m21:02:04  Creating dbt configuration folder at \n",
      "Enter a name for your project (letters, digits, underscore): ^C\n",
      "\u001b[0m21:15:41  Encountered an error:\n",
      "\n",
      "\u001b[0m21:15:41  Traceback (most recent call last):\n",
      "  File \"/usr/local/lib/python3.11/site-packages/dbt/cli/requires.py\", line 138, in wrapper\n",
      "    result, success = func(*args, **kwargs)\n",
      "                      ^^^^^^^^^^^^^^^^^^^^^\n",
      "  File \"/usr/local/lib/python3.11/site-packages/dbt/cli/requires.py\", line 101, in wrapper\n",
      "    return func(*args, **kwargs)\n",
      "           ^^^^^^^^^^^^^^^^^^^^^\n",
      "  File \"/usr/local/lib/python3.11/site-packages/dbt/cli/main.py\", line 470, in init\n",
      "    results = task.run()\n",
      "              ^^^^^^^^^^\n",
      "  File \"/usr/local/lib/python3.11/site-packages/dbt/task/init.py\", line 325, in run\n",
      "    project_name = self.get_valid_project_name()\n",
      "                   ^^^^^^^^^^^^^^^^^^^^^^^^^^^^^\n",
      "  File \"/usr/local/lib/python3.11/site-packages/dbt/task/init.py\", line 279, in get_valid_project_name\n",
      "    name = click.prompt(\"Enter a name for your project (letters, digits, underscore)\")\n",
      "           ^^^^^^^^^^^^^^^^^^^^^^^^^^^^^^^^^^^^^^^^^^^^^^^^^^^^^^^^^^^^^^^^^^^^^^^^^^^\n",
      "  File \"/usr/local/lib/python3.11/site-packages/click/termui.py\", line 164, in prompt\n",
      "    value = prompt_func(prompt)\n",
      "            ^^^^^^^^^^^^^^^^^^^\n",
      "  File \"/usr/local/lib/python3.11/site-packages/click/termui.py\", line 147, in prompt_func\n",
      "    raise Abort() from None\n",
      "click.exceptions.Abort\n",
      "\n"
     ]
    }
   ],
   "source": [
    "!dbt init"
   ]
  },
  {
   "cell_type": "code",
   "execution_count": null,
   "id": "50b07dd0-a864-466e-9ecf-0ef55b21c453",
   "metadata": {},
   "outputs": [],
   "source": []
  }
 ],
 "metadata": {
  "kernelspec": {
   "display_name": "Python 3 (ipykernel)",
   "language": "python",
   "name": "python3"
  },
  "language_info": {
   "codemirror_mode": {
    "name": "ipython",
    "version": 3
   },
   "file_extension": ".py",
   "mimetype": "text/x-python",
   "name": "python",
   "nbconvert_exporter": "python",
   "pygments_lexer": "ipython3",
   "version": "3.11.9"
  }
 },
 "nbformat": 4,
 "nbformat_minor": 5
}
