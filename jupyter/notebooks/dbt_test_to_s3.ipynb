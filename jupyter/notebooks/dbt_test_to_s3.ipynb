{
 "cells": [
  {
   "cell_type": "code",
   "execution_count": 16,
   "id": "50b07dd0-a864-466e-9ecf-0ef55b21c453",
   "metadata": {},
   "outputs": [
    {
     "name": "stdout",
     "output_type": "stream",
     "text": [
      "\u001b[0m22:49:06  Running with dbt=1.8.4\n",
      "\u001b[0m22:49:07  Registered adapter: trino=1.8.1\n",
      "\u001b[0m22:49:07  [\u001b[33mWARNING\u001b[0m]: Configuration paths exist in your dbt_project.yml file which do not apply to any resources.\n",
      "There are 1 unused configuration paths:\n",
      "- models.my_dbt_project.example\n",
      "\u001b[0m22:49:07  Found 2 data tests, 436 macros\n",
      "\u001b[0m22:49:07  \n",
      "\u001b[0m22:49:07  Concurrency: 1 threads (target='dev')\n",
      "\u001b[0m22:49:07  \n",
      "\u001b[0m22:49:07  1 of 2 START test my_first_test ................................................ [RUN]\n",
      "\u001b[0m22:49:07  1 of 2 PASS my_first_test ...................................................... [\u001b[32mPASS\u001b[0m in 0.21s]\n",
      "\u001b[0m22:49:07  2 of 2 START test my_first_test-checkpoint ..................................... [RUN]\n",
      "\u001b[0m22:49:07  2 of 2 PASS my_first_test-checkpoint ........................................... [\u001b[32mPASS\u001b[0m in 0.15s]\n",
      "\u001b[0m22:49:07  \n",
      "\u001b[0m22:49:07  Finished running 2 data tests in 0 hours 0 minutes and 0.36 seconds (0.36s).\n",
      "\u001b[0m22:49:07  \n",
      "\u001b[0m22:49:07  \u001b[32mCompleted successfully\u001b[0m\n",
      "\u001b[0m22:49:07  \n",
      "\u001b[0m22:49:07  Done. PASS=2 WARN=0 ERROR=0 SKIP=0 TOTAL=2\n"
     ]
    }
   ],
   "source": [
    "!cd my_dbt_project && dbt test"
   ]
  },
  {
   "cell_type": "code",
   "execution_count": null,
   "id": "7e952c81-8bff-484b-ba0e-8b527ef7603b",
   "metadata": {},
   "outputs": [],
   "source": []
  }
 ],
 "metadata": {
  "kernelspec": {
   "display_name": "Python 3 (ipykernel)",
   "language": "python",
   "name": "python3"
  },
  "language_info": {
   "codemirror_mode": {
    "name": "ipython",
    "version": 3
   },
   "file_extension": ".py",
   "mimetype": "text/x-python",
   "name": "python",
   "nbconvert_exporter": "python",
   "pygments_lexer": "ipython3",
   "version": "3.11.9"
  }
 },
 "nbformat": 4,
 "nbformat_minor": 5
}
