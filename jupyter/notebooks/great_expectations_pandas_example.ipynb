{
 "cells": [
  {
   "cell_type": "code",
   "execution_count": 1,
   "id": "df68cc7d-3bf9-4072-8cbe-8ac5434b5c49",
   "metadata": {
    "tags": []
   },
   "outputs": [],
   "source": [
    "import great_expectations as gx\n",
    "from great_expectations.core.batch import BatchRequest, RuntimeBatchRequest\n",
    "from ruamel import yaml\n",
    "import pyspark\n",
    "\n",
    "import os\n",
    "\n",
    "import pyarrow.fs as fs\n",
    "from deltalake import DeltaTable\n",
    "import pandas as pd"
   ]
  },
  {
   "cell_type": "markdown",
   "id": "0f89b957-44e8-42e1-bcb1-2fe11e34da55",
   "metadata": {},
   "source": [
    "## Get Dataframe"
   ]
  },
  {
   "cell_type": "code",
   "execution_count": 2,
   "id": "e89dde78-9406-4018-904c-2bbd30ecc4aa",
   "metadata": {
    "tags": []
   },
   "outputs": [
    {
     "data": {
      "text/plain": [
       "environ{'PATH': '/usr/local/bin:/usr/local/sbin:/usr/local/bin:/usr/sbin:/usr/bin:/sbin:/bin',\n",
       "        'HOSTNAME': 'a610c2cb8b68',\n",
       "        'AWS_ACCESS_KEY_ID': 'jupyteraccesskey',\n",
       "        'AWS_SECRET_ACCESS_KEY': 'jupytersupersecretkey',\n",
       "        'AWS_ENDPOINT_URL': 'http://minio:9000',\n",
       "        'S3_BUCKET': 'test',\n",
       "        'LANG': 'C.UTF-8',\n",
       "        'GPG_KEY': 'A035C8C19219BA821ECEA86B64E628F8D684696D',\n",
       "        'PYTHON_VERSION': '3.11.6',\n",
       "        'PYTHON_PIP_VERSION': '23.2.1',\n",
       "        'PYTHON_SETUPTOOLS_VERSION': '65.5.1',\n",
       "        'PYTHON_GET_PIP_URL': 'https://github.com/pypa/get-pip/raw/9af82b715db434abb94a0a6f3569f43e72157346/public/get-pip.py',\n",
       "        'PYTHON_GET_PIP_SHA256': '45a2bb8bf2bb5eff16fdd00faef6f29731831c7c59bd9fc2bf1f3bed511ff1fe',\n",
       "        'HOME': '/root',\n",
       "        'JPY_SESSION_NAME': '/notebooks/great_expectations_pandas_example.ipynb',\n",
       "        'JPY_PARENT_PID': '1',\n",
       "        'PYDEVD_USE_FRAME_EVAL': 'NO',\n",
       "        'TERM': 'xterm-color',\n",
       "        'CLICOLOR': '1',\n",
       "        'FORCE_COLOR': '1',\n",
       "        'CLICOLOR_FORCE': '1',\n",
       "        'PAGER': 'cat',\n",
       "        'GIT_PAGER': 'cat',\n",
       "        'MPLBACKEND': 'module://matplotlib_inline.backend_inline'}"
      ]
     },
     "execution_count": 2,
     "metadata": {},
     "output_type": "execute_result"
    }
   ],
   "source": [
    "os.environ \n",
    "## Should see AWS_ENDPOINT_URL, AWS_ACCESS_KEY_ID, and AWS_SECRET_ACCESS_KEY environment varibles.\n",
    "# These environment variables are set in the docker-compose.yml, and the service account used by PySpark\n",
    "#> to read from and write to Minio are created by the minio-init container defined in docker-compose.yml"
   ]
  },
  {
   "cell_type": "code",
   "execution_count": 3,
   "id": "476cfaea-2226-48b4-853f-efceb0f791aa",
   "metadata": {
    "tags": []
   },
   "outputs": [],
   "source": [
    "S3_ACCESS_KEY = os.environ.get(\"AWS_ACCESS_KEY_ID\")\n",
    "S3_BUCKET = os.environ.get(\"S3_BUCKET\")\n",
    "S3_SECRET_KEY = os.environ.get(\"AWS_SECRET_ACCESS_KEY\")\n",
    "S3_ENDPOINT = os.environ.get(\"AWS_ENDPOINT_URL\")"
   ]
  },
  {
   "cell_type": "code",
   "execution_count": 4,
   "id": "c46feb19-387b-48f5-9751-85f7b5c4e63f",
   "metadata": {
    "tags": []
   },
   "outputs": [],
   "source": [
    "table_uri = \"s3://test/appl_stock_delta_table\"\n",
    "s3_options = {\n",
    "    \"access_key_id\": S3_ACCESS_KEY, \"secret_access_key\":S3_SECRET_KEY, \"aws_endpoint_url\":S3_ENDPOINT, \"AWS_STORAGE_ALLOW_HTTP\":\"true\", \"region\":\"us-east-1\"\n",
    "}\n",
    "dt = DeltaTable(table_uri, storage_options=s3_options)"
   ]
  },
  {
   "cell_type": "code",
   "execution_count": 5,
   "id": "c82c6ae0-eccb-4008-adfb-b543e096f92f",
   "metadata": {
    "tags": []
   },
   "outputs": [],
   "source": [
    "## Pandas will use the python libs fsspec and s3fs to fetch data in S3 (MINIO)\n",
    "### Uses environment variables AWS_* for authentication (see env vars above)\n",
    "df = pd.read_csv(\"s3://test/appl_stock.csv\")"
   ]
  },
  {
   "cell_type": "code",
   "execution_count": 4,
   "id": "07843b07-c15e-414b-83c6-aee0a7218dba",
   "metadata": {},
   "outputs": [],
   "source": [
    "## Create a Month Column that we'll use with Great Expectations below\n",
    "df[\"Month\"] = df[\"Date\"].str[5:7].astype(int)"
   ]
  },
  {
   "cell_type": "markdown",
   "id": "30a99a19-7e1e-453c-bccc-8c90ba39885b",
   "metadata": {},
   "source": [
    "## Prepare Great Expectations Context and Connector"
   ]
  },
  {
   "cell_type": "code",
   "execution_count": 5,
   "id": "eb0cbe41-a414-42d1-9b2a-9f4afc16ad12",
   "metadata": {
    "tags": []
   },
   "outputs": [],
   "source": [
    "context = gx.get_context()"
   ]
  },
  {
   "cell_type": "code",
   "execution_count": 6,
   "id": "0fcdbbd8-cb06-441a-a5ee-485c084cb050",
   "metadata": {
    "tags": []
   },
   "outputs": [],
   "source": [
    "datasource_name = \"delta_lake\"\n",
    "\n",
    "config = f\"\"\"\n",
    "name: {datasource_name}\n",
    "class_name: Datasource\n",
    "module_name: great_expectations.datasource\n",
    "execution_engine:\n",
    "  module_name: great_expectations.execution_engine\n",
    "  class_name: PandasExecutionEngine\n",
    "data_connectors:\n",
    "    default_runtime_data_connector_name:\n",
    "        class_name: RuntimeDataConnector\n",
    "        batch_identifiers:\n",
    "            - default_identifier_name\n",
    "\"\"\""
   ]
  },
  {
   "cell_type": "code",
   "execution_count": 7,
   "id": "a55c25ab-132b-4a92-a96d-6b3571d39693",
   "metadata": {
    "tags": []
   },
   "outputs": [
    {
     "name": "stdout",
     "output_type": "stream",
     "text": [
      "Attempting to instantiate class from config...\n",
      "\tInstantiating as a Datasource, since class_name is Datasource\n",
      "\tSuccessfully instantiated Datasource\n",
      "\n",
      "\n",
      "ExecutionEngine class name: PandasExecutionEngine\n",
      "Data Connectors:\n",
      "\tdefault_runtime_data_connector_name:RuntimeDataConnector\n",
      "\n",
      "\tAvailable data_asset_names (0 of 0):\n",
      "\t\tNote : RuntimeDataConnector will not have data_asset_names until they are passed in through RuntimeBatchRequest\n",
      "\n",
      "\tUnmatched data_references (0 of 0): []\n",
      "\n"
     ]
    },
    {
     "data": {
      "text/plain": [
       "<great_expectations.datasource.new_datasource.Datasource at 0x7f8659c04bd0>"
      ]
     },
     "execution_count": 7,
     "metadata": {},
     "output_type": "execute_result"
    }
   ],
   "source": [
    "context.test_yaml_config(config)"
   ]
  },
  {
   "cell_type": "code",
   "execution_count": 8,
   "id": "e3016935-af03-4e1d-8e3b-0216a8a37980",
   "metadata": {
    "tags": []
   },
   "outputs": [
    {
     "data": {
      "text/plain": [
       "<great_expectations.datasource.new_datasource.Datasource at 0x7f8659c08250>"
      ]
     },
     "execution_count": 8,
     "metadata": {},
     "output_type": "execute_result"
    }
   ],
   "source": [
    "context.add_datasource(**yaml.load(config))"
   ]
  },
  {
   "cell_type": "code",
   "execution_count": 9,
   "id": "24887e96-b715-4ed5-a6ff-3af6f9a1fc3b",
   "metadata": {
    "tags": []
   },
   "outputs": [],
   "source": [
    "batch_request = RuntimeBatchRequest(\n",
    "    datasource_name=datasource_name,\n",
    "    data_connector_name=\"default_runtime_data_connector_name\",\n",
    "    data_asset_name=\"APPL_TABLE\",  # this is the name of the table you want to retrieve\n",
    "    batch_identifiers={\"default_identifier_name\":\"my_batch\"},\n",
    "    runtime_parameters={\"batch_data\":df}\n",
    ")\n"
   ]
  },
  {
   "cell_type": "code",
   "execution_count": 10,
   "id": "534bd519-5597-4799-b63f-0b400a371963",
   "metadata": {
    "tags": []
   },
   "outputs": [],
   "source": [
    "context.create_expectation_suite(\n",
    "    expectation_suite_name=\"test_suite\", overwrite_existing=True\n",
    ")\n",
    "validator = context.get_validator(\n",
    "    batch_request=batch_request, expectation_suite_name=\"test_suite\"\n",
    ")"
   ]
  },
  {
   "cell_type": "code",
   "execution_count": 11,
   "id": "79872462-37ff-4629-a1f9-746f0fe19596",
   "metadata": {
    "tags": []
   },
   "outputs": [
    {
     "data": {
      "application/vnd.jupyter.widget-view+json": {
       "model_id": "b53a139805a944d3aef173e2b68a9282",
       "version_major": 2,
       "version_minor": 0
      },
      "text/plain": [
       "Calculating Metrics:   0%|          | 0/2 [00:00<?, ?it/s]"
      ]
     },
     "metadata": {},
     "output_type": "display_data"
    },
    {
     "data": {
      "text/plain": [
       "{\n",
       "  \"success\": true,\n",
       "  \"result\": {},\n",
       "  \"meta\": {},\n",
       "  \"exception_info\": {\n",
       "    \"raised_exception\": false,\n",
       "    \"exception_traceback\": null,\n",
       "    \"exception_message\": null\n",
       "  }\n",
       "}"
      ]
     },
     "execution_count": 11,
     "metadata": {},
     "output_type": "execute_result"
    }
   ],
   "source": [
    "validator.expect_column_to_exist(\"Close\")"
   ]
  },
  {
   "cell_type": "code",
   "execution_count": 12,
   "id": "8edac22a-532e-49fc-845a-194a79360398",
   "metadata": {
    "tags": []
   },
   "outputs": [
    {
     "data": {
      "application/vnd.jupyter.widget-view+json": {
       "model_id": "9736d6efc7b049e08a8137f917f72a9d",
       "version_major": 2,
       "version_minor": 0
      },
      "text/plain": [
       "Calculating Metrics:   0%|          | 0/1 [00:00<?, ?it/s]"
      ]
     },
     "metadata": {},
     "output_type": "display_data"
    },
    {
     "data": {
      "text/html": [
       "<div>\n",
       "<style scoped>\n",
       "    .dataframe tbody tr th:only-of-type {\n",
       "        vertical-align: middle;\n",
       "    }\n",
       "\n",
       "    .dataframe tbody tr th {\n",
       "        vertical-align: top;\n",
       "    }\n",
       "\n",
       "    .dataframe thead th {\n",
       "        text-align: right;\n",
       "    }\n",
       "</style>\n",
       "<table border=\"1\" class=\"dataframe\">\n",
       "  <thead>\n",
       "    <tr style=\"text-align: right;\">\n",
       "      <th></th>\n",
       "      <th>Date</th>\n",
       "      <th>Open</th>\n",
       "      <th>High</th>\n",
       "      <th>Low</th>\n",
       "      <th>Close</th>\n",
       "      <th>Volume</th>\n",
       "      <th>AdjClose</th>\n",
       "      <th>Month</th>\n",
       "    </tr>\n",
       "  </thead>\n",
       "  <tbody>\n",
       "    <tr>\n",
       "      <th>0</th>\n",
       "      <td>2010-01-04</td>\n",
       "      <td>213.429998</td>\n",
       "      <td>214.499996</td>\n",
       "      <td>212.380001</td>\n",
       "      <td>214.009998</td>\n",
       "      <td>123432400</td>\n",
       "      <td>27.727039</td>\n",
       "      <td>1</td>\n",
       "    </tr>\n",
       "    <tr>\n",
       "      <th>1</th>\n",
       "      <td>2010-01-05</td>\n",
       "      <td>214.599998</td>\n",
       "      <td>215.589994</td>\n",
       "      <td>213.249994</td>\n",
       "      <td>214.379993</td>\n",
       "      <td>150476200</td>\n",
       "      <td>27.774976</td>\n",
       "      <td>1</td>\n",
       "    </tr>\n",
       "    <tr>\n",
       "      <th>2</th>\n",
       "      <td>2010-01-06</td>\n",
       "      <td>214.379993</td>\n",
       "      <td>215.230000</td>\n",
       "      <td>210.750004</td>\n",
       "      <td>210.969995</td>\n",
       "      <td>138040000</td>\n",
       "      <td>27.333178</td>\n",
       "      <td>1</td>\n",
       "    </tr>\n",
       "    <tr>\n",
       "      <th>3</th>\n",
       "      <td>2010-01-07</td>\n",
       "      <td>211.750000</td>\n",
       "      <td>212.000006</td>\n",
       "      <td>209.050005</td>\n",
       "      <td>210.580000</td>\n",
       "      <td>119282800</td>\n",
       "      <td>27.282650</td>\n",
       "      <td>1</td>\n",
       "    </tr>\n",
       "    <tr>\n",
       "      <th>4</th>\n",
       "      <td>2010-01-08</td>\n",
       "      <td>210.299994</td>\n",
       "      <td>212.000006</td>\n",
       "      <td>209.060005</td>\n",
       "      <td>211.980005</td>\n",
       "      <td>111902700</td>\n",
       "      <td>27.464034</td>\n",
       "      <td>1</td>\n",
       "    </tr>\n",
       "  </tbody>\n",
       "</table>\n",
       "</div>"
      ],
      "text/plain": [
       "         Date        Open        High         Low       Close     Volume  \\\n",
       "0  2010-01-04  213.429998  214.499996  212.380001  214.009998  123432400   \n",
       "1  2010-01-05  214.599998  215.589994  213.249994  214.379993  150476200   \n",
       "2  2010-01-06  214.379993  215.230000  210.750004  210.969995  138040000   \n",
       "3  2010-01-07  211.750000  212.000006  209.050005  210.580000  119282800   \n",
       "4  2010-01-08  210.299994  212.000006  209.060005  211.980005  111902700   \n",
       "\n",
       "    AdjClose  Month  \n",
       "0  27.727039      1  \n",
       "1  27.774976      1  \n",
       "2  27.333178      1  \n",
       "3  27.282650      1  \n",
       "4  27.464034      1  "
      ]
     },
     "execution_count": 12,
     "metadata": {},
     "output_type": "execute_result"
    }
   ],
   "source": [
    "validator.head()"
   ]
  },
  {
   "cell_type": "code",
   "execution_count": 13,
   "id": "aa6fe72a-9100-4d59-bd4c-951d466c2a4d",
   "metadata": {
    "tags": []
   },
   "outputs": [
    {
     "data": {
      "application/vnd.jupyter.widget-view+json": {
       "model_id": "41f49581000c4da9af44d34fc663d731",
       "version_major": 2,
       "version_minor": 0
      },
      "text/plain": [
       "Calculating Metrics:   0%|          | 0/4 [00:00<?, ?it/s]"
      ]
     },
     "metadata": {},
     "output_type": "display_data"
    },
    {
     "data": {
      "text/plain": [
       "{\n",
       "  \"success\": true,\n",
       "  \"result\": {\n",
       "    \"observed_value\": [\n",
       "      1,\n",
       "      2,\n",
       "      3,\n",
       "      4,\n",
       "      5,\n",
       "      6,\n",
       "      7,\n",
       "      8,\n",
       "      9,\n",
       "      10,\n",
       "      11,\n",
       "      12\n",
       "    ],\n",
       "    \"details\": {\n",
       "      \"value_counts\": [\n",
       "        {\n",
       "          \"value\": 1,\n",
       "          \"count\": 140\n",
       "        },\n",
       "        {\n",
       "          \"value\": 2,\n",
       "          \"count\": 135\n",
       "        },\n",
       "        {\n",
       "          \"value\": 3,\n",
       "          \"count\": 153\n",
       "        },\n",
       "        {\n",
       "          \"value\": 4,\n",
       "          \"count\": 146\n",
       "        },\n",
       "        {\n",
       "          \"value\": 5,\n",
       "          \"count\": 147\n",
       "        },\n",
       "        {\n",
       "          \"value\": 6,\n",
       "          \"count\": 150\n",
       "        },\n",
       "        {\n",
       "          \"value\": 7,\n",
       "          \"count\": 148\n",
       "        },\n",
       "        {\n",
       "          \"value\": 8,\n",
       "          \"count\": 155\n",
       "        },\n",
       "        {\n",
       "          \"value\": 9,\n",
       "          \"count\": 144\n",
       "        },\n",
       "        {\n",
       "          \"value\": 10,\n",
       "          \"count\": 152\n",
       "        },\n",
       "        {\n",
       "          \"value\": 11,\n",
       "          \"count\": 143\n",
       "        },\n",
       "        {\n",
       "          \"value\": 12,\n",
       "          \"count\": 149\n",
       "        }\n",
       "      ]\n",
       "    }\n",
       "  },\n",
       "  \"meta\": {},\n",
       "  \"exception_info\": {\n",
       "    \"raised_exception\": false,\n",
       "    \"exception_traceback\": null,\n",
       "    \"exception_message\": null\n",
       "  }\n",
       "}"
      ]
     },
     "execution_count": 13,
     "metadata": {},
     "output_type": "execute_result"
    }
   ],
   "source": [
    "validator.expect_column_distinct_values_to_be_in_set(\"Month\", list(range(1,13)))"
   ]
  },
  {
   "cell_type": "code",
   "execution_count": null,
   "id": "1c78442a-10c2-4721-9dea-015859254840",
   "metadata": {},
   "outputs": [],
   "source": []
  }
 ],
 "metadata": {
  "kernelspec": {
   "display_name": "Python 3 (ipykernel)",
   "language": "python",
   "name": "python3"
  },
  "language_info": {
   "codemirror_mode": {
    "name": "ipython",
    "version": 3
   },
   "file_extension": ".py",
   "mimetype": "text/x-python",
   "name": "python",
   "nbconvert_exporter": "python",
   "pygments_lexer": "ipython3",
   "version": "3.11.6"
  }
 },
 "nbformat": 4,
 "nbformat_minor": 5
}
