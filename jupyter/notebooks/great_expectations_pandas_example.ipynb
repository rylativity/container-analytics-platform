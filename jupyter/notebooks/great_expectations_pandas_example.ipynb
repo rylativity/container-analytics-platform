{
 "cells": [
  {
   "cell_type": "code",
   "execution_count": null,
   "id": "df68cc7d-3bf9-4072-8cbe-8ac5434b5c49",
   "metadata": {
    "tags": []
   },
   "outputs": [],
   "source": [
    "import great_expectations as gx\n",
    "from great_expectations.core.batch import BatchRequest, RuntimeBatchRequest\n",
    "from ruamel import yaml\n",
    "import pyspark\n",
    "\n",
    "import os\n",
    "\n",
    "import pyarrow.fs as fs\n",
    "from deltalake import DeltaTable\n",
    "import pandas as pd"
   ]
  },
  {
   "cell_type": "markdown",
   "id": "0f89b957-44e8-42e1-bcb1-2fe11e34da55",
   "metadata": {},
   "source": [
    "## Get Dataframe"
   ]
  },
  {
   "cell_type": "code",
   "execution_count": null,
   "id": "e89dde78-9406-4018-904c-2bbd30ecc4aa",
   "metadata": {
    "tags": []
   },
   "outputs": [],
   "source": [
    "os.environ \n",
    "## Should see AWS_ENDPOINT_URL, AWS_ACCESS_KEY_ID, and AWS_SECRET_ACCESS_KEY environment varibles.\n",
    "# These environment variables are set in the docker-compose.yml, and the service account used by PySpark\n",
    "#> to read from and write to Minio are created by the minio-init container defined in docker-compose.yml"
   ]
  },
  {
   "cell_type": "code",
   "execution_count": null,
   "id": "476cfaea-2226-48b4-853f-efceb0f791aa",
   "metadata": {
    "tags": []
   },
   "outputs": [],
   "source": [
    "S3_ACCESS_KEY = os.environ.get(\"AWS_ACCESS_KEY_ID\")\n",
    "S3_BUCKET = os.environ.get(\"S3_BUCKET\")\n",
    "S3_SECRET_KEY = os.environ.get(\"AWS_SECRET_ACCESS_KEY\")\n",
    "S3_ENDPOINT = os.environ.get(\"AWS_ENDPOINT_URL\")"
   ]
  },
  {
   "cell_type": "code",
   "execution_count": null,
   "id": "c82c6ae0-eccb-4008-adfb-b543e096f92f",
   "metadata": {
    "tags": []
   },
   "outputs": [],
   "source": [
    "## Pandas will use the python libs fsspec and s3fs to fetch data in S3 (MINIO)\n",
    "### Uses environment variables AWS_* for authentication (see env vars above)\n",
    "df = pd.read_csv(\"s3://test/appl_stock.csv\")"
   ]
  },
  {
   "cell_type": "code",
   "execution_count": null,
   "id": "399c03bb-3fb8-41ba-a731-7fd91867eb08",
   "metadata": {},
   "outputs": [],
   "source": [
    "df.head()"
   ]
  },
  {
   "cell_type": "code",
   "execution_count": null,
   "id": "07843b07-c15e-414b-83c6-aee0a7218dba",
   "metadata": {},
   "outputs": [],
   "source": [
    "## Create a Month Column that we'll use with Great Expectations below\n",
    "df[\"Month\"] = df[\"Date\"].str[5:7].astype(int)"
   ]
  },
  {
   "cell_type": "markdown",
   "id": "30a99a19-7e1e-453c-bccc-8c90ba39885b",
   "metadata": {},
   "source": [
    "## Prepare Great Expectations Context and Connector"
   ]
  },
  {
   "cell_type": "code",
   "execution_count": null,
   "id": "eb0cbe41-a414-42d1-9b2a-9f4afc16ad12",
   "metadata": {
    "tags": []
   },
   "outputs": [],
   "source": [
    "context = gx.get_context()"
   ]
  },
  {
   "cell_type": "code",
   "execution_count": null,
   "id": "0fcdbbd8-cb06-441a-a5ee-485c084cb050",
   "metadata": {
    "tags": []
   },
   "outputs": [],
   "source": [
    "datasource_name = \"delta_lake\"\n",
    "\n",
    "config = f\"\"\"\n",
    "name: {datasource_name}\n",
    "class_name: Datasource\n",
    "module_name: great_expectations.datasource\n",
    "execution_engine:\n",
    "  module_name: great_expectations.execution_engine\n",
    "  class_name: PandasExecutionEngine\n",
    "data_connectors:\n",
    "    default_runtime_data_connector_name:\n",
    "        class_name: RuntimeDataConnector\n",
    "        batch_identifiers:\n",
    "            - default_identifier_name\n",
    "\"\"\""
   ]
  },
  {
   "cell_type": "code",
   "execution_count": null,
   "id": "a55c25ab-132b-4a92-a96d-6b3571d39693",
   "metadata": {
    "tags": []
   },
   "outputs": [],
   "source": [
    "context.test_yaml_config(config)"
   ]
  },
  {
   "cell_type": "code",
   "execution_count": null,
   "id": "e3016935-af03-4e1d-8e3b-0216a8a37980",
   "metadata": {
    "tags": []
   },
   "outputs": [],
   "source": [
    "context.add_datasource(**yaml.load(config))"
   ]
  },
  {
   "cell_type": "code",
   "execution_count": null,
   "id": "24887e96-b715-4ed5-a6ff-3af6f9a1fc3b",
   "metadata": {
    "tags": []
   },
   "outputs": [],
   "source": [
    "batch_request = RuntimeBatchRequest(\n",
    "    datasource_name=datasource_name,\n",
    "    data_connector_name=\"default_runtime_data_connector_name\",\n",
    "    data_asset_name=\"APPL_TABLE\",  # this is the name of the table you want to retrieve\n",
    "    batch_identifiers={\"default_identifier_name\":\"my_batch\"},\n",
    "    runtime_parameters={\"batch_data\":df}\n",
    ")\n"
   ]
  },
  {
   "cell_type": "code",
   "execution_count": null,
   "id": "400792f5-c06a-40e0-bdcd-c3a4cd11221a",
   "metadata": {},
   "outputs": [],
   "source": [
    "context.expe"
   ]
  },
  {
   "cell_type": "code",
   "execution_count": null,
   "id": "534bd519-5597-4799-b63f-0b400a371963",
   "metadata": {
    "tags": []
   },
   "outputs": [],
   "source": [
    "context.add_expectation_suite(\n",
    "    expectation_suite_name=\"test_suite\"\n",
    ")\n",
    "validator = context.get_validator(\n",
    "    batch_request=batch_request, expectation_suite_name=\"test_suite\"\n",
    ")"
   ]
  },
  {
   "cell_type": "code",
   "execution_count": null,
   "id": "79872462-37ff-4629-a1f9-746f0fe19596",
   "metadata": {
    "tags": []
   },
   "outputs": [],
   "source": [
    "validator.expect_column_to_exist(\"Close\")"
   ]
  },
  {
   "cell_type": "code",
   "execution_count": null,
   "id": "8edac22a-532e-49fc-845a-194a79360398",
   "metadata": {
    "tags": []
   },
   "outputs": [],
   "source": [
    "validator.head()"
   ]
  },
  {
   "cell_type": "code",
   "execution_count": null,
   "id": "aa6fe72a-9100-4d59-bd4c-951d466c2a4d",
   "metadata": {
    "tags": []
   },
   "outputs": [],
   "source": [
    "validator.expect_column_distinct_values_to_be_in_set(\"Month\", list(range(1,13)))"
   ]
  },
  {
   "cell_type": "code",
   "execution_count": null,
   "id": "1c78442a-10c2-4721-9dea-015859254840",
   "metadata": {},
   "outputs": [],
   "source": []
  }
 ],
 "metadata": {
  "kernelspec": {
   "display_name": "Python 3 (ipykernel)",
   "language": "python",
   "name": "python3"
  },
  "language_info": {
   "codemirror_mode": {
    "name": "ipython",
    "version": 3
   },
   "file_extension": ".py",
   "mimetype": "text/x-python",
   "name": "python",
   "nbconvert_exporter": "python",
   "pygments_lexer": "ipython3",
   "version": "3.11.9"
  }
 },
 "nbformat": 4,
 "nbformat_minor": 5
}
