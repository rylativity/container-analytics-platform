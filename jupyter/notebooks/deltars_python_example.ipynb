{
 "cells": [
  {
   "cell_type": "markdown",
   "id": "0e66d70c-56cd-4478-91cb-fd39fd76e36f",
   "metadata": {},
   "source": [
    "# Delta-RS Python Example"
   ]
  },
  {
   "cell_type": "markdown",
   "id": "b4854bbf-ca8f-413e-97ad-5c1b03d2b59f",
   "metadata": {},
   "source": [
    "This notebook shows how to write write and read Delta Lake tables without the need for Spark by leveraging the Delta-RS Python bindings. For more information about the delta-rs python bindings, seehttps://delta-io.github.io/delta-rs/python/\n",
    "\n",
    "Click the Table of Contents button in the left JupyterLab sidebar (the button on the far left of this browser window that looks like a bulleted list) to see the types of examples provided. **Make sure to run all the cells above a given section, since most examples in this notebook depend on those above them**"
   ]
  },
  {
   "cell_type": "code",
   "execution_count": 1,
   "id": "a83372b2-9dea-4eed-9dce-6655cf524879",
   "metadata": {},
   "outputs": [],
   "source": [
    "import pyarrow.fs as fs\n",
    "from deltalake import DeltaTable"
   ]
  },
  {
   "cell_type": "markdown",
   "id": "4d437f2e-7522-463c-ad64-762a51e6a22e",
   "metadata": {},
   "source": [
    "## Read a Delta Table"
   ]
  },
  {
   "cell_type": "code",
   "execution_count": 2,
   "id": "6232f1ee-f69e-4f1f-a415-a4b07fc82985",
   "metadata": {},
   "outputs": [],
   "source": [
    "table_uri = \"s3://test/appl_stock_delta_table\"\n",
    "s3_options = {\n",
    "    \"access_key_id\": \"jupyteraccesskey\", \"secret_access_key\":\"jupytersupersecretkey\", \"aws_endpoint_url\":\"http://minio:9000\", \"AWS_ALLOW_HTTP\":\"true\", \"region\":\"us-east-1\"\n",
    "}\n",
    "dt = DeltaTable(table_uri, storage_options=s3_options)"
   ]
  },
  {
   "cell_type": "code",
   "execution_count": 3,
   "id": "562eff2b-1cfa-4225-aac1-473431d02adf",
   "metadata": {},
   "outputs": [
    {
     "data": {
      "text/plain": [
       "['Year=2010/Month=6/part-00000-b9ea0587-256b-4917-aaea-d46e69d5b582.c000.snappy.parquet',\n",
       " 'Year=2014/Month=4/part-00000-5bf2f4a7-352d-4f16-9a9d-75aaa8579b10.c000.snappy.parquet',\n",
       " 'Year=2015/Month=3/part-00000-0385f515-0f3e-4166-8d0f-0ea4dbc0ff32.c000.snappy.parquet',\n",
       " 'Year=2010/Month=5/part-00000-f448aef9-94dc-4b0d-a1e1-0af9a4ccb56c.c000.snappy.parquet',\n",
       " 'Year=2011/Month=8/part-00000-6e545315-fe2b-4ea4-a595-768795d63de5.c000.snappy.parquet',\n",
       " 'Year=2011/Month=12/part-00000-e1741bac-d03e-4114-9d0a-cfa07e042f40.c000.snappy.parquet',\n",
       " 'Year=2013/Month=4/part-00000-53be96b1-8035-4e01-9177-324d47e082f3.c000.snappy.parquet',\n",
       " 'Year=2014/Month=3/part-00000-0e4d4ea5-790d-45b1-a1c2-50c96d7d66ee.c000.snappy.parquet',\n",
       " 'Year=2013/Month=6/part-00000-c300dc0b-badc-483f-9644-22f342c8fa61.c000.snappy.parquet',\n",
       " 'Year=2014/Month=6/part-00000-f4931d63-751c-4db5-8f14-ea63f99de18c.c000.snappy.parquet',\n",
       " 'Year=2011/Month=10/part-00000-08278325-101d-43f0-a7bc-77a0865cdcd5.c000.snappy.parquet',\n",
       " 'Year=2012/Month=2/part-00000-460a18ac-8b91-4942-a392-0fdf425d9e30.c000.snappy.parquet',\n",
       " 'Year=2014/Month=12/part-00000-1d07767d-2a23-4de5-8b55-7efe03b42939.c000.snappy.parquet',\n",
       " 'Year=2015/Month=12/part-00000-c5b61a41-0c05-47e7-9056-3b9b0a5dac86.c000.snappy.parquet',\n",
       " 'Year=2015/Month=2/part-00000-94f40234-1db2-48ed-bf20-1c90f2a58f54.c000.snappy.parquet',\n",
       " 'Year=2015/Month=4/part-00000-63bd1edd-d905-43a0-865f-fc0d0c29326a.c000.snappy.parquet',\n",
       " 'Year=2013/Month=11/part-00000-fc786928-3122-41fa-b6a4-37618722967b.c000.snappy.parquet',\n",
       " 'Year=2013/Month=5/part-00000-a5f3e5a8-75a6-45da-9c62-234124db92a0.c000.snappy.parquet',\n",
       " 'Year=2014/Month=5/part-00000-a8118e3e-8d26-4285-b968-5a280dc98c1f.c000.snappy.parquet',\n",
       " 'Year=2015/Month=10/part-00000-43ba1d90-c4a5-49f6-9fb3-3115b5847578.c000.snappy.parquet',\n",
       " 'Year=2012/Month=10/part-00000-30c695d8-9ac4-4882-9ef5-3cae3ab02400.c000.snappy.parquet',\n",
       " 'Year=2016/Month=1/part-00000-ee184eaf-43ba-4afb-b157-a0876cf8917c.c000.snappy.parquet',\n",
       " 'Year=2016/Month=3/part-00000-1db08a77-a718-4de7-85d1-5345203eda18.c000.snappy.parquet',\n",
       " 'Year=2014/Month=11/part-00000-bbcf88d8-2d61-48e8-bcdc-8ffb88e68594.c000.snappy.parquet',\n",
       " 'Year=2010/Month=7/part-00000-ffc5a1ab-33f2-4c6f-9a68-4b756c62f66b.c000.snappy.parquet',\n",
       " 'Year=2015/Month=11/part-00000-9b1a885f-d968-4ac0-a1ed-5bbd00793b18.c000.snappy.parquet',\n",
       " 'Year=2011/Month=9/part-00000-b18e5afc-bc9d-4de9-ba87-a30a33fe13b4.c000.snappy.parquet',\n",
       " 'Year=2013/Month=12/part-00000-48f4fc65-4253-424e-903b-0eebfb604f17.c000.snappy.parquet',\n",
       " 'Year=2014/Month=10/part-00000-c8dc3137-7d95-4b4d-895c-6ebb72b8f2fa.c000.snappy.parquet',\n",
       " 'Year=2015/Month=9/part-00000-ebb36cdc-ed8d-4456-b5b9-ef571400bab9.c000.snappy.parquet',\n",
       " 'Year=2010/Month=9/part-00000-db4969be-0c3d-4453-a81e-0b17ecbec129.c000.snappy.parquet',\n",
       " 'Year=2014/Month=2/part-00000-c5f00aa4-1087-40c2-b41a-5d40b2ac7207.c000.snappy.parquet',\n",
       " 'Year=2016/Month=12/part-00000-d673df7e-56b7-4241-a580-4e0255aa12c4.c000.snappy.parquet',\n",
       " 'Year=2016/Month=10/part-00000-e4a66d55-eb3b-47bd-9f39-6fb53349c89d.c000.snappy.parquet',\n",
       " 'Year=2011/Month=2/part-00000-c9f0a746-e30d-4e36-8857-fb820975d56c.c000.snappy.parquet',\n",
       " 'Year=2011/Month=5/part-00000-a6aee717-c25d-419c-9baf-3fcebae59e27.c000.snappy.parquet',\n",
       " 'Year=2014/Month=8/part-00000-c3e155e8-fd94-42da-93c9-7a3be72c5960.c000.snappy.parquet',\n",
       " 'Year=2013/Month=9/part-00000-dedba463-aa33-47b7-bc78-1d894faaeadf.c000.snappy.parquet',\n",
       " 'Year=2011/Month=11/part-00000-e43af252-551f-42e0-a9d0-ba41246840e6.c000.snappy.parquet',\n",
       " 'Year=2014/Month=1/part-00000-63ab56a9-5645-41af-8b05-0c464b056aab.c000.snappy.parquet',\n",
       " 'Year=2012/Month=6/part-00000-2b678372-207f-4b6e-aa4e-257be809d1aa.c000.snappy.parquet',\n",
       " 'Year=2010/Month=4/part-00000-2c6f07d6-a1ba-469c-b982-b14d2faa02ae.c000.snappy.parquet',\n",
       " 'Year=2016/Month=8/part-00000-8e961601-cd7f-47ed-83a3-4ff6138f5ef2.c000.snappy.parquet',\n",
       " 'Year=2010/Month=12/part-00000-4d81ddd8-8ce5-4285-8ca2-944f8bb85c22.c000.snappy.parquet',\n",
       " 'Year=2011/Month=6/part-00000-55b09000-7382-422e-85d7-45a7fc81e0d6.c000.snappy.parquet',\n",
       " 'Year=2015/Month=8/part-00000-6969f4b9-31ec-4746-82ff-32afc9d4a31c.c000.snappy.parquet',\n",
       " 'Year=2012/Month=8/part-00000-dfd19b93-80d9-437e-ab12-051a0c56591c.c000.snappy.parquet',\n",
       " 'Year=2012/Month=5/part-00000-a8dbed8b-d829-4d53-8263-bfb656ce929d.c000.snappy.parquet',\n",
       " 'Year=2016/Month=11/part-00000-f2110707-d933-4bb4-aad5-1f9f34a0b627.c000.snappy.parquet',\n",
       " 'Year=2013/Month=2/part-00000-80d15d7b-649d-404a-ba33-296e9b8a89d8.c000.snappy.parquet',\n",
       " 'Year=2013/Month=1/part-00000-3a26168c-72c9-4964-80ff-1e2f1a9c2e4f.c000.snappy.parquet',\n",
       " 'Year=2013/Month=10/part-00000-a6e4b5d2-4ef3-46e2-950f-4680d6f989d2.c000.snappy.parquet',\n",
       " 'Year=2013/Month=7/part-00000-2865d435-8610-4aaa-815a-13f476d0abcb.c000.snappy.parquet',\n",
       " 'Year=2015/Month=7/part-00000-5b48eba7-ead5-4ae8-8c62-733afc4c6ecf.c000.snappy.parquet',\n",
       " 'Year=2016/Month=5/part-00000-f143a1f6-fbdc-4f65-91bb-a60db0e2a2a9.c000.snappy.parquet',\n",
       " 'Year=2011/Month=7/part-00000-287c1597-c438-4ad8-a42c-cd297caba3a7.c000.snappy.parquet',\n",
       " 'Year=2012/Month=9/part-00000-c3b8867f-a532-4035-9c97-289a5d03d112.c000.snappy.parquet',\n",
       " 'Year=2016/Month=2/part-00000-b477501a-262d-4dc1-9ac5-52fa8e9613fb.c000.snappy.parquet',\n",
       " 'Year=2014/Month=7/part-00000-6f9a557b-2eb5-466e-81ea-9687acd35a5b.c000.snappy.parquet',\n",
       " 'Year=2015/Month=6/part-00000-4963c22a-0a0d-4826-a508-571f024807d0.c000.snappy.parquet',\n",
       " 'Year=2010/Month=3/part-00000-3d62f1a8-7a4a-4672-9d54-3a23950cb9b1.c000.snappy.parquet',\n",
       " 'Year=2011/Month=4/part-00000-ad1462d2-878c-4dab-9fa2-c6075ef3f1f4.c000.snappy.parquet',\n",
       " 'Year=2015/Month=1/part-00000-eb8fc717-b7c0-45bc-9793-f931ad180770.c000.snappy.parquet',\n",
       " 'Year=2010/Month=11/part-00000-0a3e7256-6f64-4f61-b00d-000acd79a465.c000.snappy.parquet',\n",
       " 'Year=2012/Month=7/part-00000-c33093b8-f840-4a08-a73e-85e5fdf4e385.c000.snappy.parquet',\n",
       " 'Year=2014/Month=9/part-00000-69424e10-b6e9-41d4-a783-cf3e31998e5d.c000.snappy.parquet',\n",
       " 'Year=2016/Month=7/part-00000-3625395f-dd24-4934-b88b-7209745d6048.c000.snappy.parquet',\n",
       " 'Year=2016/Month=9/part-00000-1ee47894-4730-400e-af9d-a577d0708b7a.c000.snappy.parquet',\n",
       " 'Year=2010/Month=8/part-00000-645af0de-15cf-47ce-8515-f5441faaa52b.c000.snappy.parquet',\n",
       " 'Year=2012/Month=1/part-00000-3cba9971-7341-4abc-89c8-da75f9222df6.c000.snappy.parquet',\n",
       " 'Year=2012/Month=12/part-00000-6951c553-0e8f-47ca-b254-a2807e780706.c000.snappy.parquet',\n",
       " 'Year=2011/Month=1/part-00000-7f6118ff-2a59-4e07-9235-43c3ff89eba4.c000.snappy.parquet',\n",
       " 'Year=2016/Month=6/part-00000-1e19a235-a2bd-49cf-b822-07e1f878aa60.c000.snappy.parquet',\n",
       " 'Year=2010/Month=2/part-00000-ce57e49d-7936-4f36-97eb-aad65662ee48.c000.snappy.parquet',\n",
       " 'Year=2012/Month=11/part-00000-7d5705b3-3b99-4b8c-ad9c-013a4b74b536.c000.snappy.parquet',\n",
       " 'Year=2013/Month=8/part-00000-54931ae5-407d-4d54-8216-472d578ee109.c000.snappy.parquet',\n",
       " 'Year=2015/Month=5/part-00000-e4ff3bb9-bda8-4f3a-903d-74df0d33bee1.c000.snappy.parquet',\n",
       " 'Year=2010/Month=10/part-00000-dd088e90-a8d9-4c55-922f-7aef91b9c250.c000.snappy.parquet',\n",
       " 'Year=2012/Month=3/part-00000-bc27d12e-9e49-4239-9c64-f2a122317d61.c000.snappy.parquet',\n",
       " 'Year=2012/Month=4/part-00000-ae79140d-de56-4597-8cc7-003f352d97d0.c000.snappy.parquet',\n",
       " 'Year=2013/Month=3/part-00000-55e22033-7a2a-40b2-a7bb-3ee15d3ef878.c000.snappy.parquet',\n",
       " 'Year=2011/Month=3/part-00000-2eae476c-bc1a-4d9a-94c3-5b7891f15f67.c000.snappy.parquet',\n",
       " 'Year=2016/Month=4/part-00000-7e818919-9e22-4299-bc03-b6a34f6e533a.c000.snappy.parquet']"
      ]
     },
     "execution_count": 3,
     "metadata": {},
     "output_type": "execute_result"
    }
   ],
   "source": [
    "dt.version()\n",
    "dt.files()"
   ]
  },
  {
   "cell_type": "code",
   "execution_count": null,
   "id": "ccffd65d-3c48-417d-94dc-f3323358d107",
   "metadata": {},
   "outputs": [],
   "source": []
  }
 ],
 "metadata": {
  "kernelspec": {
   "display_name": "Python 3 (ipykernel)",
   "language": "python",
   "name": "python3"
  },
  "language_info": {
   "codemirror_mode": {
    "name": "ipython",
    "version": 3
   },
   "file_extension": ".py",
   "mimetype": "text/x-python",
   "name": "python",
   "nbconvert_exporter": "python",
   "pygments_lexer": "ipython3",
   "version": "3.11.0"
  }
 },
 "nbformat": 4,
 "nbformat_minor": 5
}
