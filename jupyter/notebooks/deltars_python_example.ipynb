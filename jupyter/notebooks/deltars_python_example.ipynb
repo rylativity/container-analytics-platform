{
 "cells": [
  {
   "cell_type": "markdown",
   "id": "0e66d70c-56cd-4478-91cb-fd39fd76e36f",
   "metadata": {},
   "source": [
    "# Delta-RS Python Example"
   ]
  },
  {
   "cell_type": "markdown",
   "id": "475800bf-d968-4034-97e6-e79c29c2ecd3",
   "metadata": {},
   "source": [
    "## STILL IN PROGRESS"
   ]
  },
  {
   "cell_type": "markdown",
   "id": "b4854bbf-ca8f-413e-97ad-5c1b03d2b59f",
   "metadata": {},
   "source": [
    "This notebook shows how to write write and read Delta Lake tables without the need for Spark by leveraging the Delta-RS Python bindings. For more information about the delta-rs python bindings, seehttps://delta-io.github.io/delta-rs/python/\n",
    "\n",
    "Click the Table of Contents button in the left JupyterLab sidebar (the button on the far left of this browser window that looks like a bulleted list) to see the types of examples provided. **Make sure to run all the cells above a given section, since most examples in this notebook depend on those above them**"
   ]
  },
  {
   "cell_type": "code",
   "execution_count": 1,
   "id": "a83372b2-9dea-4eed-9dce-6655cf524879",
   "metadata": {},
   "outputs": [],
   "source": [
    "from deltalake import DeltaTable\n",
    "from deltalake.writer import write_deltalake\n",
    "import pandas as pd\n",
    "import pyarrow.fs as fs\n",
    "\n",
    "import os"
   ]
  },
  {
   "cell_type": "code",
   "execution_count": 2,
   "id": "d1e21a09-7791-477c-a074-8090c8e210f4",
   "metadata": {},
   "outputs": [],
   "source": [
    "s3_options = {\n",
    "    \"REGION\":\"us-east-1\",\n",
    "    \"AWS_S3_ALLOW_UNSAFE_RENAME\":\"true\",\n",
    "    \"AWS_ALLOW_HTTP\":\"true\", \n",
    "    # \"ACCESS_KEY_ID\": \"jupyteraccesskey\", \n",
    "    # \"SECRET_ACCESS_KEY\":\"jupytersupersecretkey\", \n",
    "    # \"AWS_ENDPOINT_URL\":\"http://minio:9000\",\n",
    "}\n",
    "\n",
    "## Credentials are provided in environment variables.\n",
    "## Can override environment variables by uncommenting lines above"
   ]
  },
  {
   "cell_type": "code",
   "execution_count": 3,
   "id": "075e4114-1a92-4602-9117-ad1132701fe4",
   "metadata": {},
   "outputs": [],
   "source": [
    "delta_table_uri = \"s3://test/appl_stock_delta_table\""
   ]
  },
  {
   "cell_type": "markdown",
   "id": "7dcef374-a0e1-46b2-8bda-e3126ff1e0f8",
   "metadata": {},
   "source": [
    "## Write a Delta Table"
   ]
  },
  {
   "cell_type": "code",
   "execution_count": 4,
   "id": "e459b093-b7a8-4410-bec7-0a2169a60570",
   "metadata": {},
   "outputs": [],
   "source": [
    "source_csv_path = \"s3://test/appl_stock.csv\"\n",
    "df = pd.read_csv(source_csv_path)"
   ]
  },
  {
   "cell_type": "code",
   "execution_count": 5,
   "id": "6af48875-5138-41d5-9879-34c7838d95ba",
   "metadata": {},
   "outputs": [],
   "source": [
    "## Add Month and Year for Partitioning\n",
    "df[\"Month\"] = df[\"Date\"].str[5:7].astype(int)\n",
    "df[\"Year\"] = df[\"Date\"].str[:4].astype(int)"
   ]
  },
  {
   "cell_type": "code",
   "execution_count": 6,
   "id": "16937a49-df7c-4d7d-ba72-ed72ed73a6ae",
   "metadata": {},
   "outputs": [
    {
     "name": "stderr",
     "output_type": "stream",
     "text": [
      "/usr/local/lib/python3.11/site-packages/pyarrow/pandas_compat.py:373: FutureWarning: is_sparse is deprecated and will be removed in a future version. Check `isinstance(dtype, pd.SparseDtype)` instead.\n",
      "  if _pandas_api.is_sparse(col):\n"
     ]
    }
   ],
   "source": [
    "write_deltalake(\n",
    "    delta_table_uri, \n",
    "    df, \n",
    "    mode=\"overwrite\",\n",
    "    overwrite_schema=True,\n",
    "    partition_by=[\"Year\",\"Month\"],\n",
    "    storage_options=s3_options)"
   ]
  },
  {
   "cell_type": "markdown",
   "id": "4d437f2e-7522-463c-ad64-762a51e6a22e",
   "metadata": {},
   "source": [
    "## Read a Delta Table"
   ]
  },
  {
   "cell_type": "code",
   "execution_count": 7,
   "id": "6232f1ee-f69e-4f1f-a415-a4b07fc82985",
   "metadata": {},
   "outputs": [],
   "source": [
    "dt = DeltaTable(delta_table_uri, \n",
    "                storage_options=s3_options\n",
    "               )"
   ]
  },
  {
   "cell_type": "code",
   "execution_count": 8,
   "id": "562eff2b-1cfa-4225-aac1-473431d02adf",
   "metadata": {},
   "outputs": [
    {
     "data": {
      "text/plain": [
       "7"
      ]
     },
     "execution_count": 8,
     "metadata": {},
     "output_type": "execute_result"
    }
   ],
   "source": [
    "dt.version()"
   ]
  },
  {
   "cell_type": "code",
   "execution_count": 9,
   "id": "ccffd65d-3c48-417d-94dc-f3323358d107",
   "metadata": {},
   "outputs": [
    {
     "data": {
      "text/plain": [
       "['Year=2010/Month=2/7-f88524b7-b77e-467d-b401-1a6b81129e9d-0.parquet',\n",
       " 'Year=2010/Month=11/7-f88524b7-b77e-467d-b401-1a6b81129e9d-0.parquet',\n",
       " 'Year=2010/Month=9/7-f88524b7-b77e-467d-b401-1a6b81129e9d-0.parquet']"
      ]
     },
     "execution_count": 9,
     "metadata": {},
     "output_type": "execute_result"
    }
   ],
   "source": [
    "dt.files()[:3]"
   ]
  },
  {
   "cell_type": "code",
   "execution_count": 10,
   "id": "4671e9e9-bf1d-4392-8e9b-fe05bc821e59",
   "metadata": {},
   "outputs": [
    {
     "data": {
      "text/html": [
       "<div>\n",
       "<style scoped>\n",
       "    .dataframe tbody tr th:only-of-type {\n",
       "        vertical-align: middle;\n",
       "    }\n",
       "\n",
       "    .dataframe tbody tr th {\n",
       "        vertical-align: top;\n",
       "    }\n",
       "\n",
       "    .dataframe thead th {\n",
       "        text-align: right;\n",
       "    }\n",
       "</style>\n",
       "<table border=\"1\" class=\"dataframe\">\n",
       "  <thead>\n",
       "    <tr style=\"text-align: right;\">\n",
       "      <th></th>\n",
       "      <th>Date</th>\n",
       "      <th>Open</th>\n",
       "      <th>High</th>\n",
       "      <th>Low</th>\n",
       "      <th>Close</th>\n",
       "      <th>Volume</th>\n",
       "      <th>AdjClose</th>\n",
       "      <th>Month</th>\n",
       "      <th>Year</th>\n",
       "    </tr>\n",
       "  </thead>\n",
       "  <tbody>\n",
       "    <tr>\n",
       "      <th>0</th>\n",
       "      <td>2010-02-01</td>\n",
       "      <td>192.369997</td>\n",
       "      <td>196.000000</td>\n",
       "      <td>191.299999</td>\n",
       "      <td>194.729998</td>\n",
       "      <td>187469100</td>\n",
       "      <td>25.229131</td>\n",
       "      <td>2</td>\n",
       "      <td>2010</td>\n",
       "    </tr>\n",
       "    <tr>\n",
       "      <th>1</th>\n",
       "      <td>2010-02-02</td>\n",
       "      <td>195.909998</td>\n",
       "      <td>196.319994</td>\n",
       "      <td>193.379993</td>\n",
       "      <td>195.859997</td>\n",
       "      <td>174585600</td>\n",
       "      <td>25.375533</td>\n",
       "      <td>2</td>\n",
       "      <td>2010</td>\n",
       "    </tr>\n",
       "    <tr>\n",
       "      <th>2</th>\n",
       "      <td>2010-02-03</td>\n",
       "      <td>195.169994</td>\n",
       "      <td>200.200003</td>\n",
       "      <td>194.420004</td>\n",
       "      <td>199.229994</td>\n",
       "      <td>153832000</td>\n",
       "      <td>25.812149</td>\n",
       "      <td>2</td>\n",
       "      <td>2010</td>\n",
       "    </tr>\n",
       "    <tr>\n",
       "      <th>3</th>\n",
       "      <td>2010-02-04</td>\n",
       "      <td>196.730003</td>\n",
       "      <td>198.370001</td>\n",
       "      <td>191.570005</td>\n",
       "      <td>192.050003</td>\n",
       "      <td>189413000</td>\n",
       "      <td>24.881912</td>\n",
       "      <td>2</td>\n",
       "      <td>2010</td>\n",
       "    </tr>\n",
       "    <tr>\n",
       "      <th>4</th>\n",
       "      <td>2010-02-05</td>\n",
       "      <td>192.630003</td>\n",
       "      <td>196.000000</td>\n",
       "      <td>190.850002</td>\n",
       "      <td>195.460001</td>\n",
       "      <td>212576700</td>\n",
       "      <td>25.323710</td>\n",
       "      <td>2</td>\n",
       "      <td>2010</td>\n",
       "    </tr>\n",
       "  </tbody>\n",
       "</table>\n",
       "</div>"
      ],
      "text/plain": [
       "         Date        Open        High         Low       Close     Volume  \\\n",
       "0  2010-02-01  192.369997  196.000000  191.299999  194.729998  187469100   \n",
       "1  2010-02-02  195.909998  196.319994  193.379993  195.859997  174585600   \n",
       "2  2010-02-03  195.169994  200.200003  194.420004  199.229994  153832000   \n",
       "3  2010-02-04  196.730003  198.370001  191.570005  192.050003  189413000   \n",
       "4  2010-02-05  192.630003  196.000000  190.850002  195.460001  212576700   \n",
       "\n",
       "    AdjClose  Month  Year  \n",
       "0  25.229131      2  2010  \n",
       "1  25.375533      2  2010  \n",
       "2  25.812149      2  2010  \n",
       "3  24.881912      2  2010  \n",
       "4  25.323710      2  2010  "
      ]
     },
     "execution_count": 10,
     "metadata": {},
     "output_type": "execute_result"
    }
   ],
   "source": [
    "dt.to_pandas().head()"
   ]
  },
  {
   "cell_type": "code",
   "execution_count": null,
   "id": "83027978-7a8c-4e8b-a150-579834f76704",
   "metadata": {},
   "outputs": [],
   "source": []
  }
 ],
 "metadata": {
  "kernelspec": {
   "display_name": "Python 3 (ipykernel)",
   "language": "python",
   "name": "python3"
  },
  "language_info": {
   "codemirror_mode": {
    "name": "ipython",
    "version": 3
   },
   "file_extension": ".py",
   "mimetype": "text/x-python",
   "name": "python",
   "nbconvert_exporter": "python",
   "pygments_lexer": "ipython3",
   "version": "3.11.6"
  }
 },
 "nbformat": 4,
 "nbformat_minor": 5
}
