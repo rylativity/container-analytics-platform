{
 "cells": [
  {
   "cell_type": "code",
   "execution_count": 1,
   "id": "df68cc7d-3bf9-4072-8cbe-8ac5434b5c49",
   "metadata": {
    "tags": []
   },
   "outputs": [],
   "source": [
    "import great_expectations as gx\n",
    "from great_expectations.core.batch import BatchRequest, RuntimeBatchRequest\n",
    "from ruamel import yaml"
   ]
  },
  {
   "cell_type": "code",
   "execution_count": 2,
   "id": "eb0cbe41-a414-42d1-9b2a-9f4afc16ad12",
   "metadata": {
    "tags": []
   },
   "outputs": [],
   "source": [
    "context = gx.get_context()"
   ]
  },
  {
   "cell_type": "code",
   "execution_count": 3,
   "id": "0fcdbbd8-cb06-441a-a5ee-485c084cb050",
   "metadata": {
    "tags": []
   },
   "outputs": [],
   "source": [
    "config = \"\"\"\n",
    "name: trino_datasource\n",
    "class_name: Datasource\n",
    "execution_engine:\n",
    "  class_name: SqlAlchemyExecutionEngine\n",
    "  connection_string: trino://trino@trino:8080/delta/my_schema\n",
    "data_connectors:\n",
    "   default_runtime_data_connector_name:\n",
    "       class_name: RuntimeDataConnector\n",
    "       batch_identifiers:\n",
    "           - default_identifier_name\n",
    "   default_inferred_data_connector_name:\n",
    "       class_name: InferredAssetSqlDataConnector\n",
    "       include_schema_name: true\n",
    "\"\"\""
   ]
  },
  {
   "cell_type": "code",
   "execution_count": 4,
   "id": "a55c25ab-132b-4a92-a96d-6b3571d39693",
   "metadata": {
    "tags": []
   },
   "outputs": [
    {
     "name": "stdout",
     "output_type": "stream",
     "text": [
      "Attempting to instantiate class from config...\n",
      "\tInstantiating as a Datasource, since class_name is Datasource\n",
      "\tSuccessfully instantiated Datasource\n",
      "\n",
      "\n",
      "ExecutionEngine class name: SqlAlchemyExecutionEngine\n",
      "Data Connectors:\n",
      "\tdefault_inferred_data_connector_name : InferredAssetSqlDataConnector\n",
      "\n",
      "\tAvailable data_asset_names (2 of 2):\n",
      "\t\tmy_schema.appl_stock_delta_table (1 of 1): [{}]\n",
      "\t\tmy_schema.appl_stock_delta_table_version_2 (1 of 1): [{}]\n",
      "\n",
      "\tUnmatched data_references (0 of 0):[]\n",
      "\n",
      "\tdefault_runtime_data_connector_name:RuntimeDataConnector\n",
      "\n",
      "\tAvailable data_asset_names (0 of 0):\n",
      "\t\tNote : RuntimeDataConnector will not have data_asset_names until they are passed in through RuntimeBatchRequest\n",
      "\n",
      "\tUnmatched data_references (0 of 0): []\n",
      "\n"
     ]
    },
    {
     "data": {
      "text/plain": [
       "<great_expectations.datasource.new_datasource.Datasource at 0x7f09d7a8c2d0>"
      ]
     },
     "execution_count": 4,
     "metadata": {},
     "output_type": "execute_result"
    }
   ],
   "source": [
    "context.test_yaml_config(config)"
   ]
  },
  {
   "cell_type": "code",
   "execution_count": 5,
   "id": "e3016935-af03-4e1d-8e3b-0216a8a37980",
   "metadata": {
    "tags": []
   },
   "outputs": [
    {
     "data": {
      "text/plain": [
       "<great_expectations.datasource.new_datasource.Datasource at 0x7f09d6f52c50>"
      ]
     },
     "execution_count": 5,
     "metadata": {},
     "output_type": "execute_result"
    }
   ],
   "source": [
    "context.add_datasource(**yaml.load(config))"
   ]
  },
  {
   "cell_type": "code",
   "execution_count": 6,
   "id": "19ae9a87-42e8-4807-be38-9e59278c2b25",
   "metadata": {
    "tags": []
   },
   "outputs": [
    {
     "data": {
      "text/plain": [
       "{'default_runtime_data_connector_name': [],\n",
       " 'default_inferred_data_connector_name': ['my_schema.appl_stock_delta_table',\n",
       "  'my_schema.appl_stock_delta_table_version_2']}"
      ]
     },
     "execution_count": 6,
     "metadata": {},
     "output_type": "execute_result"
    }
   ],
   "source": [
    "trino = context.get_datasource(\"trino_datasource\")\n",
    "\n",
    "trino.get_available_data_asset_names()"
   ]
  },
  {
   "cell_type": "code",
   "execution_count": 7,
   "id": "24887e96-b715-4ed5-a6ff-3af6f9a1fc3b",
   "metadata": {
    "tags": []
   },
   "outputs": [],
   "source": [
    "batch_request = BatchRequest(\n",
    "    datasource_name=\"trino_datasource\",\n",
    "    data_connector_name=\"default_inferred_data_connector_name\",\n",
    "    data_asset_name=\"my_schema.appl_stock_delta_table\",  # this is the name of the table you want to retrieve\n",
    ")\n",
    "context.create_expectation_suite(\n",
    "    expectation_suite_name=\"test_suite\", overwrite_existing=True\n",
    ")\n",
    "validator = context.get_validator(\n",
    "    batch_request=batch_request, expectation_suite_name=\"test_suite\"\n",
    ")"
   ]
  },
  {
   "cell_type": "code",
   "execution_count": 8,
   "id": "79872462-37ff-4629-a1f9-746f0fe19596",
   "metadata": {
    "tags": []
   },
   "outputs": [
    {
     "data": {
      "application/vnd.jupyter.widget-view+json": {
       "model_id": "8c4f9ed4a0954bbaa54f09202a48bd0c",
       "version_major": 2,
       "version_minor": 0
      },
      "text/plain": [
       "Calculating Metrics:   0%|          | 0/2 [00:00<?, ?it/s]"
      ]
     },
     "metadata": {},
     "output_type": "display_data"
    },
    {
     "data": {
      "text/plain": [
       "{\n",
       "  \"result\": {},\n",
       "  \"meta\": {},\n",
       "  \"exception_info\": {\n",
       "    \"raised_exception\": false,\n",
       "    \"exception_traceback\": null,\n",
       "    \"exception_message\": null\n",
       "  },\n",
       "  \"success\": true\n",
       "}"
      ]
     },
     "execution_count": 8,
     "metadata": {},
     "output_type": "execute_result"
    }
   ],
   "source": [
    "validator.expect_column_to_exist(\"close\")"
   ]
  },
  {
   "cell_type": "code",
   "execution_count": 9,
   "id": "1de4961c-88df-4447-8cf4-d6f8deaf2e2b",
   "metadata": {
    "tags": []
   },
   "outputs": [
    {
     "data": {
      "application/vnd.jupyter.widget-view+json": {
       "model_id": "e8082c4ba72e4533a853384d4d1cba40",
       "version_major": 2,
       "version_minor": 0
      },
      "text/plain": [
       "Calculating Metrics:   0%|          | 0/1 [00:00<?, ?it/s]"
      ]
     },
     "metadata": {},
     "output_type": "display_data"
    },
    {
     "name": "stderr",
     "output_type": "stream",
     "text": [
      "Error closing cursor\n",
      "Traceback (most recent call last):\n",
      "  File \"/usr/local/lib/python3.11/site-packages/sqlalchemy/engine/base.py\", line 1900, in _execute_context\n",
      "    self.dialect.do_execute(\n",
      "  File \"/usr/local/lib/python3.11/site-packages/trino/sqlalchemy/dialect.py\", line 365, in do_execute\n",
      "    cursor.execute(statement, parameters)\n",
      "  File \"/usr/local/lib/python3.11/site-packages/trino/dbapi.py\", line 487, in execute\n",
      "    self._query = self._execute_prepared_statement(\n",
      "                  ^^^^^^^^^^^^^^^^^^^^^^^^^^^^^^^^^\n",
      "  File \"/usr/local/lib/python3.11/site-packages/trino/dbapi.py\", line 386, in _execute_prepared_statement\n",
      "    sql = 'EXECUTE ' + statement_name + ' USING ' + ','.join(map(self._format_prepared_param, params))\n",
      "                                                    ^^^^^^^^^^^^^^^^^^^^^^^^^^^^^^^^^^^^^^^^^^^^^^^^^^\n",
      "  File \"/usr/local/lib/python3.11/site-packages/trino/dbapi.py\", line 463, in _format_prepared_param\n",
      "    raise trino.exceptions.NotSupportedError(\"Query parameter of type '%s' is not supported.\" % type(param))\n",
      "trino.exceptions.NotSupportedError: Query parameter of type '<class 'trino.sqlalchemy.compiler.TrinoSQLCompiler'>' is not supported.\n",
      "\n",
      "During handling of the above exception, another exception occurred:\n",
      "\n",
      "Traceback (most recent call last):\n",
      "  File \"/usr/local/lib/python3.11/site-packages/sqlalchemy/engine/base.py\", line 1995, in _safe_close_cursor\n",
      "    cursor.close()\n",
      "  File \"/usr/local/lib/python3.11/site-packages/trino/dbapi.py\", line 618, in close\n",
      "    self.cancel()\n",
      "  File \"/usr/local/lib/python3.11/site-packages/trino/dbapi.py\", line 612, in cancel\n",
      "    raise trino.exceptions.OperationalError(\n",
      "trino.exceptions.OperationalError: Cancel query failed; no running query\n"
     ]
    },
    {
     "data": {
      "text/html": [
       "<div>\n",
       "<style scoped>\n",
       "    .dataframe tbody tr th:only-of-type {\n",
       "        vertical-align: middle;\n",
       "    }\n",
       "\n",
       "    .dataframe tbody tr th {\n",
       "        vertical-align: top;\n",
       "    }\n",
       "\n",
       "    .dataframe thead th {\n",
       "        text-align: right;\n",
       "    }\n",
       "</style>\n",
       "<table border=\"1\" class=\"dataframe\">\n",
       "  <thead>\n",
       "    <tr style=\"text-align: right;\">\n",
       "      <th></th>\n",
       "      <th>date</th>\n",
       "      <th>open</th>\n",
       "      <th>high</th>\n",
       "      <th>low</th>\n",
       "      <th>close</th>\n",
       "      <th>volume</th>\n",
       "      <th>adj close</th>\n",
       "    </tr>\n",
       "  </thead>\n",
       "  <tbody>\n",
       "    <tr>\n",
       "      <th>0</th>\n",
       "      <td>2010-01-04</td>\n",
       "      <td>213.429998</td>\n",
       "      <td>214.499996</td>\n",
       "      <td>212.380001</td>\n",
       "      <td>214.009998</td>\n",
       "      <td>123432400</td>\n",
       "      <td>27.727039</td>\n",
       "    </tr>\n",
       "    <tr>\n",
       "      <th>1</th>\n",
       "      <td>2010-01-05</td>\n",
       "      <td>214.599998</td>\n",
       "      <td>215.589994</td>\n",
       "      <td>213.249994</td>\n",
       "      <td>214.379993</td>\n",
       "      <td>150476200</td>\n",
       "      <td>27.774976</td>\n",
       "    </tr>\n",
       "    <tr>\n",
       "      <th>2</th>\n",
       "      <td>2010-01-06</td>\n",
       "      <td>214.379993</td>\n",
       "      <td>215.230000</td>\n",
       "      <td>210.750004</td>\n",
       "      <td>210.969995</td>\n",
       "      <td>138040000</td>\n",
       "      <td>27.333178</td>\n",
       "    </tr>\n",
       "    <tr>\n",
       "      <th>3</th>\n",
       "      <td>2010-01-07</td>\n",
       "      <td>211.750000</td>\n",
       "      <td>212.000006</td>\n",
       "      <td>209.050005</td>\n",
       "      <td>210.580000</td>\n",
       "      <td>119282800</td>\n",
       "      <td>27.282650</td>\n",
       "    </tr>\n",
       "    <tr>\n",
       "      <th>4</th>\n",
       "      <td>2010-01-08</td>\n",
       "      <td>210.299994</td>\n",
       "      <td>212.000006</td>\n",
       "      <td>209.060005</td>\n",
       "      <td>211.980005</td>\n",
       "      <td>111902700</td>\n",
       "      <td>27.464034</td>\n",
       "    </tr>\n",
       "  </tbody>\n",
       "</table>\n",
       "</div>"
      ],
      "text/plain": [
       "         date        open        high         low       close     volume  \\\n",
       "0  2010-01-04  213.429998  214.499996  212.380001  214.009998  123432400   \n",
       "1  2010-01-05  214.599998  215.589994  213.249994  214.379993  150476200   \n",
       "2  2010-01-06  214.379993  215.230000  210.750004  210.969995  138040000   \n",
       "3  2010-01-07  211.750000  212.000006  209.050005  210.580000  119282800   \n",
       "4  2010-01-08  210.299994  212.000006  209.060005  211.980005  111902700   \n",
       "\n",
       "   adj close  \n",
       "0  27.727039  \n",
       "1  27.774976  \n",
       "2  27.333178  \n",
       "3  27.282650  \n",
       "4  27.464034  "
      ]
     },
     "execution_count": 9,
     "metadata": {},
     "output_type": "execute_result"
    }
   ],
   "source": [
    "validator.head()"
   ]
  },
  {
   "cell_type": "code",
   "execution_count": 10,
   "id": "6bb8f30d-250c-44b4-bb08-fc059629737a",
   "metadata": {
    "tags": []
   },
   "outputs": [
    {
     "data": {
      "application/vnd.jupyter.widget-view+json": {
       "model_id": "8f42c048794b491280ce1c9c310e2b37",
       "version_major": 2,
       "version_minor": 0
      },
      "text/plain": [
       "Calculating Metrics:   0%|          | 0/6 [00:00<?, ?it/s]"
      ]
     },
     "metadata": {},
     "output_type": "display_data"
    },
    {
     "data": {
      "text/plain": [
       "{\n",
       "  \"result\": {\n",
       "    \"observed_value\": 90.279999\n",
       "  },\n",
       "  \"meta\": {},\n",
       "  \"exception_info\": {\n",
       "    \"raised_exception\": false,\n",
       "    \"exception_traceback\": null,\n",
       "    \"exception_message\": null\n",
       "  },\n",
       "  \"success\": true\n",
       "}"
      ]
     },
     "execution_count": 10,
     "metadata": {},
     "output_type": "execute_result"
    }
   ],
   "source": [
    "validator.expect_column_min_to_be_between(\"close\",0)"
   ]
  },
  {
   "cell_type": "markdown",
   "id": "78128219-765f-47e2-8746-060b3bd84f83",
   "metadata": {},
   "source": [
    "## Save Expectations to Expectation Suite"
   ]
  },
  {
   "cell_type": "code",
   "execution_count": 11,
   "id": "0055f608-cf5f-4e80-9630-1cfb18c54c0b",
   "metadata": {
    "tags": []
   },
   "outputs": [],
   "source": [
    "validator.save_expectation_suite()"
   ]
  },
  {
   "cell_type": "code",
   "execution_count": 12,
   "id": "949ee33a-6737-4a19-8363-80cdf98b52d1",
   "metadata": {
    "tags": []
   },
   "outputs": [
    {
     "data": {
      "text/plain": [
       "{\n",
       "  \"expectations\": [\n",
       "    {\n",
       "      \"kwargs\": {\n",
       "        \"column\": \"close\"\n",
       "      },\n",
       "      \"meta\": {},\n",
       "      \"expectation_type\": \"expect_column_to_exist\"\n",
       "    },\n",
       "    {\n",
       "      \"kwargs\": {\n",
       "        \"column\": \"close\",\n",
       "        \"min_value\": 0\n",
       "      },\n",
       "      \"meta\": {},\n",
       "      \"expectation_type\": \"expect_column_min_to_be_between\"\n",
       "    }\n",
       "  ],\n",
       "  \"expectation_suite_name\": \"test_suite\",\n",
       "  \"data_asset_type\": null,\n",
       "  \"ge_cloud_id\": null,\n",
       "  \"meta\": {\n",
       "    \"great_expectations_version\": \"0.16.4\"\n",
       "  }\n",
       "}"
      ]
     },
     "execution_count": 12,
     "metadata": {},
     "output_type": "execute_result"
    }
   ],
   "source": [
    "validator.get_expectation_suite()"
   ]
  },
  {
   "cell_type": "code",
   "execution_count": 13,
   "id": "7902f097-a1b1-4edb-917f-13de0f556613",
   "metadata": {
    "tags": []
   },
   "outputs": [
    {
     "data": {
      "text/plain": [
       "{'trino_datasource': {'default_runtime_data_connector_name': [],\n",
       "  'default_inferred_data_connector_name': ['my_schema.appl_stock_delta_table',\n",
       "   'my_schema.appl_stock_delta_table_version_2']}}"
      ]
     },
     "execution_count": 13,
     "metadata": {},
     "output_type": "execute_result"
    }
   ],
   "source": [
    "context.get_available_data_asset_names()"
   ]
  },
  {
   "cell_type": "markdown",
   "id": "47a42824-0f70-4693-8ac7-419d82d6e8d6",
   "metadata": {},
   "source": [
    "## Create A Checkpoint from Our DataSource and Expectation Suite"
   ]
  },
  {
   "cell_type": "code",
   "execution_count": 14,
   "id": "7bdd21f3-0670-442a-9087-cac228c3c8ad",
   "metadata": {
    "tags": []
   },
   "outputs": [],
   "source": [
    "checkpoint_config = \"\"\"\n",
    "name: test_checkpoint \n",
    "config_version: 1\n",
    "class_name: SimpleCheckpoint\n",
    "validations:\n",
    "  - batch_request:\n",
    "      datasource_name: trino_datasource  # Update this value.\n",
    "      data_connector_name: default_inferred_data_connector_name  # Update this value.\n",
    "      data_asset_name: my_schema.appl_stock_delta_table  # Update this value.\n",
    "      data_connector_query:\n",
    "        index: -1\n",
    "    expectation_suite_name: test_suite  # Update this value.\n",
    "\"\"\""
   ]
  },
  {
   "cell_type": "code",
   "execution_count": 15,
   "id": "1dd6559c-0d9e-4c28-bc77-a5effb02c52a",
   "metadata": {
    "tags": []
   },
   "outputs": [],
   "source": [
    "## Add Datahub Integration if Using Datahub (note indentation: action_list is a key inside of validations\n",
    "checkpoint_config += \"\"\"\n",
    "    action_list:\n",
    "      - name: datahub_action\n",
    "        action:\n",
    "          module_name: datahub.integrations.great_expectations.action\n",
    "          class_name: DataHubValidationAction\n",
    "          server_url: http://datahub-gms:8080 #DataHub server url\n",
    "\"\"\""
   ]
  },
  {
   "cell_type": "code",
   "execution_count": 16,
   "id": "392edafe-9a1f-459b-a81a-c3f18e2692f1",
   "metadata": {
    "tags": []
   },
   "outputs": [
    {
     "name": "stdout",
     "output_type": "stream",
     "text": [
      "\n",
      "name: test_checkpoint \n",
      "config_version: 1\n",
      "class_name: SimpleCheckpoint\n",
      "validations:\n",
      "  - batch_request:\n",
      "      datasource_name: trino_datasource  # Update this value.\n",
      "      data_connector_name: default_inferred_data_connector_name  # Update this value.\n",
      "      data_asset_name: my_schema.appl_stock_delta_table  # Update this value.\n",
      "      data_connector_query:\n",
      "        index: -1\n",
      "    expectation_suite_name: test_suite  # Update this value.\n",
      "\n",
      "    action_list:\n",
      "      - name: datahub_action\n",
      "        action:\n",
      "          module_name: datahub.integrations.great_expectations.action\n",
      "          class_name: DataHubValidationAction\n",
      "          server_url: http://datahub-gms:8080 #DataHub server url\n",
      "\n"
     ]
    }
   ],
   "source": [
    "print(checkpoint_config)"
   ]
  },
  {
   "cell_type": "code",
   "execution_count": 17,
   "id": "83373e82-57cc-4ea0-aa95-856509f676d4",
   "metadata": {
    "tags": []
   },
   "outputs": [
    {
     "name": "stdout",
     "output_type": "stream",
     "text": [
      "Attempting to instantiate class from config...\n",
      "\tInstantiating as a SimpleCheckpoint, since class_name is SimpleCheckpoint\n",
      "\tSuccessfully instantiated SimpleCheckpoint\n",
      "\n",
      "\n",
      "Checkpoint class name: SimpleCheckpoint\n"
     ]
    },
    {
     "data": {
      "text/plain": [
       "{\n",
       "  \"action_list\": [\n",
       "    {\n",
       "      \"name\": \"store_validation_result\",\n",
       "      \"action\": {\n",
       "        \"class_name\": \"StoreValidationResultAction\"\n",
       "      }\n",
       "    },\n",
       "    {\n",
       "      \"name\": \"store_evaluation_params\",\n",
       "      \"action\": {\n",
       "        \"class_name\": \"StoreEvaluationParametersAction\"\n",
       "      }\n",
       "    },\n",
       "    {\n",
       "      \"name\": \"update_data_docs\",\n",
       "      \"action\": {\n",
       "        \"class_name\": \"UpdateDataDocsAction\",\n",
       "        \"site_names\": []\n",
       "      }\n",
       "    }\n",
       "  ],\n",
       "  \"batch_request\": {},\n",
       "  \"class_name\": \"Checkpoint\",\n",
       "  \"config_version\": 1.0,\n",
       "  \"evaluation_parameters\": {},\n",
       "  \"module_name\": \"great_expectations.checkpoint\",\n",
       "  \"name\": \"test_checkpoint\",\n",
       "  \"profilers\": [],\n",
       "  \"runtime_configuration\": {},\n",
       "  \"validations\": [\n",
       "    {\n",
       "      \"expectation_suite_name\": \"test_suite\",\n",
       "      \"action_list\": [\n",
       "        {\n",
       "          \"name\": \"datahub_action\",\n",
       "          \"action\": {\n",
       "            \"module_name\": \"datahub.integrations.great_expectations.action\",\n",
       "            \"class_name\": \"DataHubValidationAction\",\n",
       "            \"server_url\": \"http://datahub-gms:8080\"\n",
       "          }\n",
       "        }\n",
       "      ],\n",
       "      \"batch_request\": {\n",
       "        \"datasource_name\": \"trino_datasource\",\n",
       "        \"data_connector_name\": \"default_inferred_data_connector_name\",\n",
       "        \"data_asset_name\": \"my_schema.appl_stock_delta_table\",\n",
       "        \"data_connector_query\": {\n",
       "          \"index\": -1\n",
       "        }\n",
       "      }\n",
       "    }\n",
       "  ]\n",
       "}"
      ]
     },
     "execution_count": 17,
     "metadata": {},
     "output_type": "execute_result"
    }
   ],
   "source": [
    "context.test_yaml_config(yaml_config=checkpoint_config)"
   ]
  },
  {
   "cell_type": "code",
   "execution_count": 18,
   "id": "0d343796-fb95-49b8-a9c7-3ea5950f35c2",
   "metadata": {
    "tags": []
   },
   "outputs": [
    {
     "data": {
      "text/plain": [
       "{\n",
       "  \"action_list\": [\n",
       "    {\n",
       "      \"name\": \"store_validation_result\",\n",
       "      \"action\": {\n",
       "        \"class_name\": \"StoreValidationResultAction\"\n",
       "      }\n",
       "    },\n",
       "    {\n",
       "      \"name\": \"store_evaluation_params\",\n",
       "      \"action\": {\n",
       "        \"class_name\": \"StoreEvaluationParametersAction\"\n",
       "      }\n",
       "    },\n",
       "    {\n",
       "      \"name\": \"update_data_docs\",\n",
       "      \"action\": {\n",
       "        \"class_name\": \"UpdateDataDocsAction\",\n",
       "        \"site_names\": []\n",
       "      }\n",
       "    }\n",
       "  ],\n",
       "  \"batch_request\": {},\n",
       "  \"class_name\": \"Checkpoint\",\n",
       "  \"config_version\": 1.0,\n",
       "  \"evaluation_parameters\": {},\n",
       "  \"module_name\": \"great_expectations.checkpoint\",\n",
       "  \"name\": \"test_checkpoint\",\n",
       "  \"profilers\": [],\n",
       "  \"runtime_configuration\": {},\n",
       "  \"validations\": [\n",
       "    {\n",
       "      \"batch_request\": {\n",
       "        \"datasource_name\": \"trino_datasource\",\n",
       "        \"data_connector_name\": \"default_inferred_data_connector_name\",\n",
       "        \"data_asset_name\": \"my_schema.appl_stock_delta_table\",\n",
       "        \"data_connector_query\": {\n",
       "          \"index\": -1\n",
       "        }\n",
       "      },\n",
       "      \"expectation_suite_name\": \"test_suite\",\n",
       "      \"action_list\": [\n",
       "        {\n",
       "          \"name\": \"datahub_action\",\n",
       "          \"action\": {\n",
       "            \"module_name\": \"datahub.integrations.great_expectations.action\",\n",
       "            \"class_name\": \"DataHubValidationAction\",\n",
       "            \"server_url\": \"http://datahub-gms:8080\"\n",
       "          }\n",
       "        }\n",
       "      ]\n",
       "    }\n",
       "  ]\n",
       "}"
      ]
     },
     "execution_count": 18,
     "metadata": {},
     "output_type": "execute_result"
    }
   ],
   "source": [
    "context.add_checkpoint(**yaml.load(checkpoint_config))"
   ]
  },
  {
   "cell_type": "code",
   "execution_count": 19,
   "id": "f76f5720-7d08-4c44-b6ca-6438ae60a590",
   "metadata": {
    "tags": []
   },
   "outputs": [
    {
     "data": {
      "application/vnd.jupyter.widget-view+json": {
       "model_id": "6ab05050bde94279bdc3a930d01301ac",
       "version_major": 2,
       "version_minor": 0
      },
      "text/plain": [
       "Calculating Metrics:   0%|          | 0/6 [00:00<?, ?it/s]"
      ]
     },
     "metadata": {},
     "output_type": "display_data"
    },
    {
     "name": "stderr",
     "output_type": "stream",
     "text": [
      "Datasource trino_datasource is not present in platform_instance_map\n"
     ]
    },
    {
     "data": {
      "text/plain": [
       "{\n",
       "  \"run_id\": {\n",
       "    \"run_name\": null,\n",
       "    \"run_time\": \"2023-05-06T01:59:57.093991+00:00\"\n",
       "  },\n",
       "  \"run_results\": {\n",
       "    \"ValidationResultIdentifier::test_suite/__none__/20230506T015957.093991Z/35356f3bfe8c30524095725b1a8dcf60\": {\n",
       "      \"validation_result\": {\n",
       "        \"results\": [\n",
       "          {\n",
       "            \"result\": {},\n",
       "            \"expectation_config\": {\n",
       "              \"kwargs\": {\n",
       "                \"column\": \"close\",\n",
       "                \"batch_id\": \"35356f3bfe8c30524095725b1a8dcf60\"\n",
       "              },\n",
       "              \"meta\": {},\n",
       "              \"expectation_type\": \"expect_column_to_exist\"\n",
       "            },\n",
       "            \"meta\": {},\n",
       "            \"exception_info\": {\n",
       "              \"raised_exception\": false,\n",
       "              \"exception_traceback\": null,\n",
       "              \"exception_message\": null\n",
       "            },\n",
       "            \"success\": true\n",
       "          },\n",
       "          {\n",
       "            \"result\": {\n",
       "              \"observed_value\": 90.279999\n",
       "            },\n",
       "            \"expectation_config\": {\n",
       "              \"kwargs\": {\n",
       "                \"column\": \"close\",\n",
       "                \"min_value\": 0,\n",
       "                \"batch_id\": \"35356f3bfe8c30524095725b1a8dcf60\"\n",
       "              },\n",
       "              \"meta\": {},\n",
       "              \"expectation_type\": \"expect_column_min_to_be_between\"\n",
       "            },\n",
       "            \"meta\": {},\n",
       "            \"exception_info\": {\n",
       "              \"raised_exception\": false,\n",
       "              \"exception_traceback\": null,\n",
       "              \"exception_message\": null\n",
       "            },\n",
       "            \"success\": true\n",
       "          }\n",
       "        ],\n",
       "        \"evaluation_parameters\": {},\n",
       "        \"meta\": {\n",
       "          \"great_expectations_version\": \"0.16.4\",\n",
       "          \"expectation_suite_name\": \"test_suite\",\n",
       "          \"run_id\": {\n",
       "            \"run_name\": null,\n",
       "            \"run_time\": \"2023-05-06T01:59:57.093991+00:00\"\n",
       "          },\n",
       "          \"batch_spec\": {\n",
       "            \"data_asset_name\": \"my_schema.appl_stock_delta_table\",\n",
       "            \"table_name\": \"appl_stock_delta_table\",\n",
       "            \"batch_identifiers\": {},\n",
       "            \"type\": \"table\",\n",
       "            \"data_asset_name_prefix\": \"\",\n",
       "            \"data_asset_name_suffix\": \"\",\n",
       "            \"include_schema_name\": true,\n",
       "            \"schema_name\": \"my_schema\"\n",
       "          },\n",
       "          \"batch_markers\": {\n",
       "            \"ge_load_time\": \"20230506T015957.102940Z\"\n",
       "          },\n",
       "          \"active_batch_definition\": {\n",
       "            \"datasource_name\": \"trino_datasource\",\n",
       "            \"data_connector_name\": \"default_inferred_data_connector_name\",\n",
       "            \"data_asset_name\": \"my_schema.appl_stock_delta_table\",\n",
       "            \"batch_identifiers\": {}\n",
       "          },\n",
       "          \"validation_time\": \"20230506T015957.109521Z\",\n",
       "          \"checkpoint_name\": \"test_checkpoint\",\n",
       "          \"validation_id\": null,\n",
       "          \"checkpoint_id\": null\n",
       "        },\n",
       "        \"statistics\": {\n",
       "          \"evaluated_expectations\": 2,\n",
       "          \"successful_expectations\": 2,\n",
       "          \"unsuccessful_expectations\": 0,\n",
       "          \"success_percent\": 100.0\n",
       "        },\n",
       "        \"success\": true\n",
       "      },\n",
       "      \"actions_results\": {\n",
       "        \"store_validation_result\": {\n",
       "          \"class\": \"StoreValidationResultAction\"\n",
       "        },\n",
       "        \"store_evaluation_params\": {\n",
       "          \"class\": \"StoreEvaluationParametersAction\"\n",
       "        },\n",
       "        \"update_data_docs\": {\n",
       "          \"local_site\": \"file:///notebooks/great_expectations/uncommitted/data_docs/local_site/validations/test_suite/__none__/20230506T015957.093991Z/35356f3bfe8c30524095725b1a8dcf60.html\",\n",
       "          \"class\": \"UpdateDataDocsAction\"\n",
       "        },\n",
       "        \"datahub_action\": {\n",
       "          \"datahub_notification_result\": \"DataHub notification succeeded\",\n",
       "          \"class\": \"DataHubValidationAction\"\n",
       "        }\n",
       "      }\n",
       "    }\n",
       "  },\n",
       "  \"checkpoint_config\": {\n",
       "    \"slack_webhook\": null,\n",
       "    \"run_name_template\": null,\n",
       "    \"name\": \"test_checkpoint\",\n",
       "    \"validations\": [\n",
       "      {\n",
       "        \"expectation_suite_name\": \"test_suite\",\n",
       "        \"action_list\": [\n",
       "          {\n",
       "            \"name\": \"datahub_action\",\n",
       "            \"action\": {\n",
       "              \"module_name\": \"datahub.integrations.great_expectations.action\",\n",
       "              \"class_name\": \"DataHubValidationAction\",\n",
       "              \"server_url\": \"http://datahub-gms:8080\"\n",
       "            }\n",
       "          }\n",
       "        ],\n",
       "        \"batch_request\": {\n",
       "          \"datasource_name\": \"trino_datasource\",\n",
       "          \"data_connector_name\": \"default_inferred_data_connector_name\",\n",
       "          \"data_asset_name\": \"my_schema.appl_stock_delta_table\",\n",
       "          \"data_connector_query\": {\n",
       "            \"index\": -1\n",
       "          }\n",
       "        }\n",
       "      }\n",
       "    ],\n",
       "    \"site_names\": null,\n",
       "    \"notify_with\": null,\n",
       "    \"runtime_configuration\": {},\n",
       "    \"expectation_suite_name\": null,\n",
       "    \"template_name\": null,\n",
       "    \"evaluation_parameters\": {},\n",
       "    \"action_list\": [\n",
       "      {\n",
       "        \"name\": \"store_validation_result\",\n",
       "        \"action\": {\n",
       "          \"class_name\": \"StoreValidationResultAction\"\n",
       "        }\n",
       "      },\n",
       "      {\n",
       "        \"name\": \"store_evaluation_params\",\n",
       "        \"action\": {\n",
       "          \"class_name\": \"StoreEvaluationParametersAction\"\n",
       "        }\n",
       "      },\n",
       "      {\n",
       "        \"name\": \"update_data_docs\",\n",
       "        \"action\": {\n",
       "          \"class_name\": \"UpdateDataDocsAction\",\n",
       "          \"site_names\": []\n",
       "        }\n",
       "      }\n",
       "    ],\n",
       "    \"module_name\": \"great_expectations.checkpoint\",\n",
       "    \"class_name\": \"Checkpoint\",\n",
       "    \"profilers\": [],\n",
       "    \"config_version\": 1.0,\n",
       "    \"batch_request\": {},\n",
       "    \"ge_cloud_id\": null,\n",
       "    \"notify_on\": null,\n",
       "    \"expectation_suite_ge_cloud_id\": null,\n",
       "    \"default_validation_id\": null\n",
       "  },\n",
       "  \"success\": true\n",
       "}"
      ]
     },
     "execution_count": 19,
     "metadata": {},
     "output_type": "execute_result"
    }
   ],
   "source": [
    "context.run_checkpoint(\"test_checkpoint\")"
   ]
  },
  {
   "cell_type": "code",
   "execution_count": null,
   "id": "0c4985d8-3c93-4f74-ad9d-b9e3d5eca1e5",
   "metadata": {},
   "outputs": [],
   "source": []
  }
 ],
 "metadata": {
  "kernelspec": {
   "display_name": "Python 3 (ipykernel)",
   "language": "python",
   "name": "python3"
  },
  "language_info": {
   "codemirror_mode": {
    "name": "ipython",
    "version": 3
   },
   "file_extension": ".py",
   "mimetype": "text/x-python",
   "name": "python",
   "nbconvert_exporter": "python",
   "pygments_lexer": "ipython3",
   "version": "3.11.6"
  }
 },
 "nbformat": 4,
 "nbformat_minor": 5
}
